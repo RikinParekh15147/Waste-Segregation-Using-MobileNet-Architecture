{
 "cells": [
  {
   "cell_type": "markdown",
   "id": "fa471b89-2a1f-4cdc-b258-f6f845e77abc",
   "metadata": {},
   "source": [
    "Importing All the required libraries"
   ]
  },
  {
   "cell_type": "code",
   "execution_count": 1,
   "id": "a2f1448b-d001-44ee-b391-80aaf0abf969",
   "metadata": {},
   "outputs": [],
   "source": [
    "import tensorflow as tf\n",
    "from tensorflow.keras.models import Sequential\n",
    "from tensorflow.keras.layers import Dense, Flatten\n",
    "from tensorflow.keras.applications import MobileNetV2\n",
    "from tensorflow.keras.preprocessing.image import ImageDataGenerator"
   ]
  },
  {
   "cell_type": "markdown",
   "id": "4fd1a6e4-a71c-4c85-acfe-f666abc128d4",
   "metadata": {},
   "source": [
    "Loading Pretrained Model And Freezing Base Layers"
   ]
  },
  {
   "cell_type": "code",
   "execution_count": 2,
   "id": "aab150c2-46d6-42b2-bf0e-eda01d47b842",
   "metadata": {},
   "outputs": [],
   "source": [
    "base_model = MobileNetV2(weights='imagenet',include_top=False,input_shape=(224,224,3))\n",
    "for layer in base_model.layers:\n",
    "    layer.trainable = False"
   ]
  },
  {
   "cell_type": "code",
   "execution_count": 3,
   "id": "0a76af9c-82a4-4f40-8410-cf7905346bb6",
   "metadata": {},
   "outputs": [],
   "source": [
    "model = Sequential([\n",
    "    base_model,\n",
    "    Flatten(),\n",
    "    Dense(128, activation='relu'),\n",
    "    Dense(6, activation='softmax')  # 6 classes: aluminium_cans, general trash, metal, organic, paper, plastic_bottle\n",
    "])\n",
    "model.compile(optimizer='adam', loss='categorical_crossentropy', metrics=['accuracy'])"
   ]
  },
  {
   "cell_type": "code",
   "execution_count": 4,
   "id": "3e041a55-9633-43c4-852f-07e7b2f8932f",
   "metadata": {},
   "outputs": [
    {
     "name": "stdout",
     "output_type": "stream",
     "text": [
      "Found 4090 images belonging to 6 classes.\n",
      "Found 1020 images belonging to 6 classes.\n"
     ]
    }
   ],
   "source": [
    "datagen = ImageDataGenerator(rescale=1./255, validation_split=0.2)\n",
    "train_data = datagen.flow_from_directory('waste_dataset', target_size=(224, 224), batch_size=32, subset='training')\n",
    "val_data = datagen.flow_from_directory('waste_dataset', target_size=(224, 224), batch_size=32, subset='validation')\n"
   ]
  },
  {
   "cell_type": "code",
   "execution_count": 5,
   "id": "61ec4050-bac7-402d-8cfe-19016c625ba7",
   "metadata": {},
   "outputs": [
    {
     "data": {
      "text/plain": [
       "['aluminium_can',\n",
       " 'general_trash',\n",
       " 'metal_waste',\n",
       " 'organic_waste',\n",
       " 'paper',\n",
       " 'plastic_bottle']"
      ]
     },
     "execution_count": 5,
     "metadata": {},
     "output_type": "execute_result"
    }
   ],
   "source": [
    "class_labels = list(train_data.class_indices.keys())\n",
    "class_labels"
   ]
  },
  {
   "cell_type": "code",
   "execution_count": 6,
   "id": "f82f5383-8c79-4365-b7d8-8b6358a04791",
   "metadata": {},
   "outputs": [
    {
     "name": "stderr",
     "output_type": "stream",
     "text": [
      "C:\\Users\\ACER\\AppData\\Local\\Programs\\Python\\Python311\\Lib\\site-packages\\keras\\src\\trainers\\data_adapters\\py_dataset_adapter.py:121: UserWarning: Your `PyDataset` class should call `super().__init__(**kwargs)` in its constructor. `**kwargs` can include `workers`, `use_multiprocessing`, `max_queue_size`. Do not pass these arguments to `fit()`, as they will be ignored.\n",
      "  self._warn_if_super_not_called()\n"
     ]
    },
    {
     "name": "stdout",
     "output_type": "stream",
     "text": [
      "Epoch 1/10\n",
      "\u001b[1m128/128\u001b[0m \u001b[32m━━━━━━━━━━━━━━━━━━━━\u001b[0m\u001b[37m\u001b[0m \u001b[1m137s\u001b[0m 1s/step - accuracy: 0.7872 - loss: 3.3344 - val_accuracy: 0.8461 - val_loss: 0.8440\n",
      "Epoch 2/10\n",
      "\u001b[1m128/128\u001b[0m \u001b[32m━━━━━━━━━━━━━━━━━━━━\u001b[0m\u001b[37m\u001b[0m \u001b[1m121s\u001b[0m 948ms/step - accuracy: 0.9452 - loss: 0.2292 - val_accuracy: 0.8657 - val_loss: 0.6179\n",
      "Epoch 3/10\n",
      "\u001b[1m128/128\u001b[0m \u001b[32m━━━━━━━━━━━━━━━━━━━━\u001b[0m\u001b[37m\u001b[0m \u001b[1m131s\u001b[0m 1s/step - accuracy: 0.9671 - loss: 0.1004 - val_accuracy: 0.8480 - val_loss: 0.9200\n",
      "Epoch 4/10\n",
      "\u001b[1m128/128\u001b[0m \u001b[32m━━━━━━━━━━━━━━━━━━━━\u001b[0m\u001b[37m\u001b[0m \u001b[1m134s\u001b[0m 1s/step - accuracy: 0.9788 - loss: 0.0541 - val_accuracy: 0.8578 - val_loss: 0.8922\n",
      "Epoch 5/10\n",
      "\u001b[1m128/128\u001b[0m \u001b[32m━━━━━━━━━━━━━━━━━━━━\u001b[0m\u001b[37m\u001b[0m \u001b[1m124s\u001b[0m 966ms/step - accuracy: 0.9840 - loss: 0.0265 - val_accuracy: 0.8461 - val_loss: 0.8175\n",
      "Epoch 6/10\n",
      "\u001b[1m128/128\u001b[0m \u001b[32m━━━━━━━━━━━━━━━━━━━━\u001b[0m\u001b[37m\u001b[0m \u001b[1m127s\u001b[0m 993ms/step - accuracy: 0.9846 - loss: 0.0271 - val_accuracy: 0.8608 - val_loss: 0.8172\n",
      "Epoch 7/10\n",
      "\u001b[1m128/128\u001b[0m \u001b[32m━━━━━━━━━━━━━━━━━━━━\u001b[0m\u001b[37m\u001b[0m \u001b[1m137s\u001b[0m 1s/step - accuracy: 0.9822 - loss: 0.0235 - val_accuracy: 0.8618 - val_loss: 0.8922\n",
      "Epoch 8/10\n",
      "\u001b[1m128/128\u001b[0m \u001b[32m━━━━━━━━━━━━━━━━━━━━\u001b[0m\u001b[37m\u001b[0m \u001b[1m131s\u001b[0m 1s/step - accuracy: 0.9846 - loss: 0.0219 - val_accuracy: 0.8627 - val_loss: 0.9748\n",
      "Epoch 9/10\n",
      "\u001b[1m128/128\u001b[0m \u001b[32m━━━━━━━━━━━━━━━━━━━━\u001b[0m\u001b[37m\u001b[0m \u001b[1m154s\u001b[0m 1s/step - accuracy: 0.9853 - loss: 0.0257 - val_accuracy: 0.8667 - val_loss: 0.9482\n",
      "Epoch 10/10\n",
      "\u001b[1m128/128\u001b[0m \u001b[32m━━━━━━━━━━━━━━━━━━━━\u001b[0m\u001b[37m\u001b[0m \u001b[1m150s\u001b[0m 1s/step - accuracy: 0.9819 - loss: 0.0333 - val_accuracy: 0.8578 - val_loss: 0.8746\n"
     ]
    },
    {
     "data": {
      "text/plain": [
       "<keras.src.callbacks.history.History at 0x1ba0bab6490>"
      ]
     },
     "execution_count": 6,
     "metadata": {},
     "output_type": "execute_result"
    }
   ],
   "source": [
    "model.fit(train_data, validation_data=val_data, epochs=10)"
   ]
  },
  {
   "cell_type": "code",
   "execution_count": 7,
   "id": "182c37bc-16e7-4925-a29f-9f4fb2e96de3",
   "metadata": {},
   "outputs": [
    {
     "name": "stderr",
     "output_type": "stream",
     "text": [
      "WARNING:absl:You are saving your model as an HDF5 file via `model.save()` or `keras.saving.save_model(model)`. This file format is considered legacy. We recommend using instead the native Keras format, e.g. `model.save('my_model.keras')` or `keras.saving.save_model(model, 'my_model.keras')`. \n"
     ]
    }
   ],
   "source": [
    "model.save('waste_classifier2.h5')"
   ]
  },
  {
   "cell_type": "code",
   "execution_count": null,
   "id": "a801ce13-734e-46ae-ae35-39e0dca40a77",
   "metadata": {},
   "outputs": [],
   "source": []
  },
  {
   "cell_type": "code",
   "execution_count": null,
   "id": "c26a1c97-82a4-444c-876e-d3d25ee0f2e3",
   "metadata": {},
   "outputs": [],
   "source": []
  },
  {
   "cell_type": "code",
   "execution_count": null,
   "id": "431b4d78-03c9-48c3-933f-de99724e49bc",
   "metadata": {},
   "outputs": [],
   "source": []
  }
 ],
 "metadata": {
  "kernelspec": {
   "display_name": "Python 3 (ipykernel)",
   "language": "python",
   "name": "python3"
  },
  "language_info": {
   "codemirror_mode": {
    "name": "ipython",
    "version": 3
   },
   "file_extension": ".py",
   "mimetype": "text/x-python",
   "name": "python",
   "nbconvert_exporter": "python",
   "pygments_lexer": "ipython3",
   "version": "3.11.5"
  }
 },
 "nbformat": 4,
 "nbformat_minor": 5
}
