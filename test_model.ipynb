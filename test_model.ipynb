{
 "cells": [
  {
   "cell_type": "code",
   "execution_count": 2,
   "id": "69a713b0-8df8-4261-ba2a-8bb736170ff2",
   "metadata": {},
   "outputs": [
    {
     "name": "stderr",
     "output_type": "stream",
     "text": [
      "WARNING:absl:Compiled the loaded model, but the compiled metrics have yet to be built. `model.compile_metrics` will be empty until you train or evaluate the model.\n"
     ]
    }
   ],
   "source": [
    "import tensorflow as tf\n",
    "import numpy as np\n",
    "import cv2\n",
    "# Load trained model\n",
    "model = tf.keras.models.load_model(\"waste_classifier.h5\")\n",
    "# Function to preprocess image\n",
    "def preprocess_image(image_path):\n",
    "    img = cv2.imread(image_path)  # Read image\n",
    "    img = cv2.resize(img, (224, 224))  # Resize to match model input size\n",
    "    img = img / 255.0  # Normalize\n",
    "    img = np.expand_dims(img, axis=0)  # Expand dimensions to match model input shape\n",
    "    return img"
   ]
  },
  {
   "cell_type": "code",
   "execution_count": 7,
   "id": "05a8748b-eeee-4eff-8577-900bc05122e7",
   "metadata": {},
   "outputs": [
    {
     "name": "stdout",
     "output_type": "stream",
     "text": [
      "\u001b[1m1/1\u001b[0m \u001b[32m━━━━━━━━━━━━━━━━━━━━\u001b[0m\u001b[37m\u001b[0m \u001b[1m0s\u001b[0m 119ms/step\n",
      "Predicted Waste Type: Organic Waste\n",
      "\u001b[1m1/1\u001b[0m \u001b[32m━━━━━━━━━━━━━━━━━━━━\u001b[0m\u001b[37m\u001b[0m \u001b[1m0s\u001b[0m 124ms/step\n",
      "Predicted Waste Type: Metal Waste\n",
      "\u001b[1m1/1\u001b[0m \u001b[32m━━━━━━━━━━━━━━━━━━━━\u001b[0m\u001b[37m\u001b[0m \u001b[1m0s\u001b[0m 132ms/step\n",
      "Predicted Waste Type: General Trash\n"
     ]
    }
   ],
   "source": [
    "# Define class labels (same order as training)\n",
    "class_labels = [\"General Trash\", \"Metal Waste\", \"Organic Waste\", \"Paper\"]\n",
    "\n",
    "# Load and preprocess test image\n",
    "images_path = [\"test_images/ow.jpg\" , \"test_images/metal.webp\",\"test_images/paper.jpg\"]\n",
    "for img_path in images_path:\n",
    "    img = preprocess_image(img_path)\n",
    "\n",
    "    # Make prediction\n",
    "    prediction = model.predict(img)\n",
    "    predicted_class = np.argmax(prediction)  # Get class index\n",
    "\n",
    "    # Display result\n",
    "    print(f\"Predicted Waste Type: {class_labels[predicted_class]}\")"
   ]
  },
  {
   "cell_type": "code",
   "execution_count": null,
   "id": "50fc6752-9857-4564-8110-1e7ced87a579",
   "metadata": {},
   "outputs": [],
   "source": []
  }
 ],
 "metadata": {
  "kernelspec": {
   "display_name": "Python 3 (ipykernel)",
   "language": "python",
   "name": "python3"
  },
  "language_info": {
   "codemirror_mode": {
    "name": "ipython",
    "version": 3
   },
   "file_extension": ".py",
   "mimetype": "text/x-python",
   "name": "python",
   "nbconvert_exporter": "python",
   "pygments_lexer": "ipython3",
   "version": "3.11.5"
  }
 },
 "nbformat": 4,
 "nbformat_minor": 5
}
